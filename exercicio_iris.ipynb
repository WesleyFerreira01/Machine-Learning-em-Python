{
 "cells": [
  {
   "cell_type": "code",
   "execution_count": 8,
   "id": "6490a44a",
   "metadata": {},
   "outputs": [],
   "source": [
    "from sklearn.datasets import load_iris\n",
    "iris = load_iris()\n",
    "x = iris.data\n",
    "y = iris.target\n",
    "from sklearn.model_selection import train_test_split\n",
    "x_train, x_test, y_train, y_test = train_test_split(x,y,test_size=0.25)"
   ]
  },
  {
   "cell_type": "code",
   "execution_count": 12,
   "id": "d2925a31",
   "metadata": {},
   "outputs": [
    {
     "name": "stdout",
     "output_type": "stream",
     "text": [
      "{1: 0.9211, 2: 0.9211, 3: 0.9474, 4: 0.9474, 5: 0.9474, 6: 0.9474, 7: 0.9474, 8: 0.9737, 9: 0.9737, 10: 0.9737, 11: 0.9737, 12: 0.9737, 13: 0.9737, 14: 0.9737, 15: 0.9474, 16: 0.9474, 17: 0.9474, 18: 0.9737, 19: 0.9737, 20: 0.9737, 21: 0.9737, 22: 0.9474, 23: 0.9474, 24: 0.9474, 25: 0.9474}\n"
     ]
    }
   ],
   "source": [
    "from sklearn.neighbors import KNeighborsClassifier\n",
    "from sklearn import metrics\n",
    "\n",
    "valores_performance = {}\n",
    "k = 1\n",
    "\n",
    "while k <= 25:\n",
    "    knn =KNeighborsClassifier(n_neighbors=k)\n",
    "    knn.fit(x_train,y_train)\n",
    "    previsoes = knn.predict(x_test)\n",
    "    acertos = metrics.accuracy_score(y_test,previsoes)\n",
    "    valores_performance[k] = round(acertos,4)\n",
    "    k += 1\n",
    "\n",
    "print(valores_performance)    "
   ]
  },
  {
   "cell_type": "code",
   "execution_count": 14,
   "id": "f53125d8",
   "metadata": {},
   "outputs": [
    {
     "data": {
      "image/png": "[encoded data removed]",
      "text/plain": [
       "<Figure size 432x288 with 1 Axes>"
      ]
     },
     "metadata": {
      "needs_background": "light"
     },
     "output_type": "display_data"
    }
   ],
   "source": [
    "import matplotlib.pyplot as plt\n",
    "\n",
    "plt.plot(list(valores_performance.keys()),list(valores_performance.values()))\n",
    "plt.xlabel('Valores de k')\n",
    "plt.ylabel('Performance')\n",
    "plt.show()"
   ]
  },
  {
   "cell_type": "code",
   "execution_count": null,
   "id": "2a47efbd",
   "metadata": {},
   "outputs": [],
   "source": []
  }
 ],
 "metadata": {
  "kernelspec": {
   "display_name": "Python 3 (ipykernel)",
   "language": "python",
   "name": "python3"
  },
  "language_info": {
   "codemirror_mode": {
    "name": "ipython",
    "version": 3
   },
   "file_extension": ".py",
   "mimetype": "text/x-python",
   "name": "python",
   "nbconvert_exporter": "python",
   "pygments_lexer": "ipython3",
   "version": "3.9.7"
  }
 },
 "nbformat": 4,
 "nbformat_minor": 5
}
