{
 "cells": [
  {
   "cell_type": "markdown",
   "id": "d8be9930",
   "metadata": {},
   "source": [
    "### Importação do Digits Dataset"
   ]
  },
  {
   "cell_type": "code",
   "execution_count": 56,
   "id": "a274d3b8",
   "metadata": {},
   "outputs": [],
   "source": [
    "from sklearn import datasets\n",
    "digits = datasets.load_digits()"
   ]
  },
  {
   "cell_type": "code",
   "execution_count": 57,
   "id": "d8f70817",
   "metadata": {},
   "outputs": [
    {
     "name": "stdout",
     "output_type": "stream",
     "text": [
      "(1797, 64)\n",
      "(1797,)\n"
     ]
    }
   ],
   "source": [
    "print(digits.data.shape)\n",
    "print(digits.target.shape)"
   ]
  },
  {
   "cell_type": "code",
   "execution_count": 58,
   "id": "b3b3beab",
   "metadata": {},
   "outputs": [
    {
     "name": "stdout",
     "output_type": "stream",
     "text": [
      "[ 0.  0.  5. 12.  1.  0.  0.  0.  0.  0. 15. 14.  7.  0.  0.  0.  0.  0.\n",
      " 13.  1. 12.  0.  0.  0.  0.  2. 10.  0. 14.  0.  0.  0.  0.  0.  2.  0.\n",
      " 16.  1.  0.  0.  0.  0.  0.  6. 15.  0.  0.  0.  0.  0.  9. 16. 15.  9.\n",
      "  8.  2.  0.  0.  3. 11.  8. 13. 12.  4.]\n"
     ]
    }
   ],
   "source": [
    "print(digits.data[12])"
   ]
  },
  {
   "cell_type": "markdown",
   "id": "428fc283",
   "metadata": {},
   "source": [
    "### Mostrar imagem do dígito"
   ]
  },
  {
   "cell_type": "code",
   "execution_count": 59,
   "id": "f01efd15",
   "metadata": {},
   "outputs": [
    {
     "data": {
      "text/plain": [
       "<matplotlib.image.AxesImage at 0x22559af5a60>"
      ]
     },
     "execution_count": 59,
     "metadata": {},
     "output_type": "execute_result"
    },
    {
     "data": {
      "image/png": "[encoded data removed]",
      "text/plain": [
       "<Figure size 144x144 with 1 Axes>"
      ]
     },
     "metadata": {
      "needs_background": "light"
     },
     "output_type": "display_data"
    }
   ],
   "source": [
    "import matplotlib.pyplot as plt\n",
    "%matplotlib inline\n",
    "\n",
    "plt.figure(figsize=(2,2))\n",
    "plt.imshow(digits.images[12], cmap=plt.cm.gray_r)"
   ]
  },
  {
   "cell_type": "markdown",
   "id": "dca31eae",
   "metadata": {},
   "source": [
    "### Aplicação do SVM"
   ]
  },
  {
   "cell_type": "code",
   "execution_count": 60,
   "id": "28f77f30",
   "metadata": {},
   "outputs": [],
   "source": [
    "from sklearn.model_selection import train_test_split\n",
    "x = digits.data\n",
    "y = digits.target\n",
    "x_train, x_test, y_train, y_test = train_test_split(x,y,test_size=0.20,random_state=5)\n"
   ]
  },
  {
   "cell_type": "code",
   "execution_count": 61,
   "id": "d93a88a2",
   "metadata": {},
   "outputs": [
    {
     "data": {
      "text/plain": [
       "SVC()"
      ]
     },
     "execution_count": 61,
     "metadata": {},
     "output_type": "execute_result"
    }
   ],
   "source": [
    "from sklearn import svm\n",
    "from sklearn import metrics\n",
    "classifier = svm.SVC()\n",
    "classifier.fit(x, y)"
   ]
  },
  {
   "cell_type": "markdown",
   "id": "3e0e8b10",
   "metadata": {},
   "source": [
    "### Leitura da imagem de um digito"
   ]
  },
  {
   "cell_type": "code",
   "execution_count": 67,
   "id": "44bd117c",
   "metadata": {},
   "outputs": [
    {
     "name": "stdout",
     "output_type": "stream",
     "text": [
      "[8]\n"
     ]
    }
   ],
   "source": [
    "import numpy as np\n",
    "import matplotlib.image as mpimg\n",
    "\n",
    "img = mpimg.imread('number2.png')\n",
    "def rgb2gray(rgb):\n",
    "    img_array = np.dot(rgb[...,:3],[0.299,0.587,0.114])\n",
    "    img_array = (16 -(img_array*16)).astype(int)\n",
    "    img_array = img_array.flatten()\n",
    "    return img_array\n",
    "\n",
    "previsao = classifier.predict([rgb2gray(img)])\n",
    "print(previsao)"
   ]
  },
  {
   "cell_type": "markdown",
   "id": "ed20a0aa",
   "metadata": {},
   "source": [
    "### Teste com regressão Logística"
   ]
  },
  {
   "cell_type": "code",
   "execution_count": 66,
   "id": "b32b3b7b",
   "metadata": {},
   "outputs": [],
   "source": [
    "#from sklearn.linear_model import LogisticRegression\n",
    "#logreg = LogisticRegression()\n",
    "#logreg.fit(x,y)\n",
    "#previsao_logreg = logreg.predict([rgb2gray(img)])\n",
    "#print(previsao_logreg)"
   ]
  },
  {
   "cell_type": "code",
   "execution_count": null,
   "id": "ecc9ccfd",
   "metadata": {},
   "outputs": [],
   "source": []
  }
 ],
 "metadata": {
  "kernelspec": {
   "display_name": "Python 3 (ipykernel)",
   "language": "python",
   "name": "python3"
  },
  "language_info": {
   "codemirror_mode": {
    "name": "ipython",
    "version": 3
   },
   "file_extension": ".py",
   "mimetype": "text/x-python",
   "name": "python",
   "nbconvert_exporter": "python",
   "pygments_lexer": "ipython3",
   "version": "3.9.7"
  }
 },
 "nbformat": 4,
 "nbformat_minor": 5
}
